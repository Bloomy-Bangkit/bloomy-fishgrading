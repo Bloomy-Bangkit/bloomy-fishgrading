{
 "cells": [
  {
   "cell_type": "code",
   "execution_count": 7,
   "metadata": {},
   "outputs": [],
   "source": [
    "import tensorflow as tf\n",
    "import numpy as np\n",
    "import os\n",
    "import matplotlib.pyplot as plt\n",
    "from tensorflow.keras.preprocessing import image\n",
    "from keras import utils\n",
    "import tkinter as tk\n",
    "from tkinter import filedialog\n",
    "from tkinter.filedialog import askopenfile\n",
    "from PIL import Image, ImageTk"
   ]
  },
  {
   "cell_type": "code",
   "execution_count": 2,
   "metadata": {},
   "outputs": [],
   "source": [
    "file_path = 'C:\\laragon\\www\\Project\\Bloomy\\model\\\\fishgrading.h5'\n",
    "model = tf.keras.models.load_model(file_path )"
   ]
  },
  {
   "cell_type": "code",
   "execution_count": null,
   "metadata": {},
   "outputs": [],
   "source": [
    "# Function to call the upload file dialog box\n",
    "def upload_file():\n",
    "    global img, predict_path\n",
    "    f_types = [('Image Files', ('*.jpg', '*.jpeg', '*.png'))]\n",
    "    filename = filedialog.askopenfilename(filetypes=f_types)\n",
    "    predict_path = filename\n",
    "    img = ImageTk.PhotoImage(file=filename)\n",
    "    my_w.destroy()\n",
    "\n",
    "my_w = tk.Tk()\n",
    "my_w.geometry(\"300x300\")\n",
    "my_w.title('Fish Grading')\n",
    "my_font1=('times', 18, 'bold')\n",
    "l1 = tk.Label(my_w,text='Upload your Fish IMG',width=22, height=5, font=my_font1)\n",
    "l1.grid(row=1,column=1)\n",
    "b1 = tk.Button(my_w, text='Upload File', \n",
    "   width=20,command = lambda:upload_file())\n",
    "b1.grid(row=2,column=1) \n",
    "\n",
    "my_w.mainloop()\n",
    "\n",
    "img = image.load_img(predict_path, target_size=(150, 150))\n",
    "imgplot = plt.imshow(img)\n",
    "x = image.img_to_array(img)\n",
    "x = np.expand_dims(x, axis=0)\n",
    "x = x / 255.0  # Image normalization\n",
    "\n",
    "# Prediction\n",
    "classes = model.predict(x, batch_size=1)\n",
    "nilai_min = np.min(classes)\n",
    "nilai_max = np.max(classes)\n",
    "\n",
    "print(\"Rentang hasil prediksi:\")\n",
    "print(\"Nilai Minimum:\", nilai_min)\n",
    "print(\"Nilai Maksimum:\", nilai_max)\n",
    "\n",
    "class_list = ['A', 'B', 'C']  # Sort based on fish grade\n",
    "\n",
    "predicted_class = class_list[np.argmax(classes[0])]\n",
    "print('Grade :', predicted_class)\n",
    "\n",
    "if predicted_class == 'A':\n",
    "    print('Good')\n",
    "   \n",
    "\n",
    "elif predicted_class == 'B':\n",
    "    print('Medium')\n",
    "\n",
    "\n",
    "elif predicted_class == 'C':\n",
    "    print('Bad')"
   ]
  }
 ],
 "metadata": {
  "kernelspec": {
   "display_name": "tf",
   "language": "python",
   "name": "python3"
  },
  "language_info": {
   "codemirror_mode": {
    "name": "ipython",
    "version": 3
   },
   "file_extension": ".py",
   "mimetype": "text/x-python",
   "name": "python",
   "nbconvert_exporter": "python",
   "pygments_lexer": "ipython3",
   "version": "3.9.18"
  }
 },
 "nbformat": 4,
 "nbformat_minor": 2
}
